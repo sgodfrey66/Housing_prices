{
 "cells": [
  {
   "cell_type": "markdown",
   "metadata": {},
   "source": [
    "# Project 2 Ames Housing\n",
    "## Step 1:  Variable evaluation\n",
    "\n",
    "In this step, I employ a modeling approach to determine a set of variables for a housing price model.  The procedure involves several steps in which various variable sets are evaluated using Ordinary Least Squares regression models with the goal of building a streamline, easily understood model.  The core of this approach are two custom-built functions that consider all specified combinations of a set of variables.  These are the model_evaluator and cat_evaluator functions defined in the Define Functions section below.  \n",
    "\n",
    "The model_evaluator function takes data frames for the X matrix and y vector of a regression, a feature subset to evaluate, parameters for the number of combinations to evaluate and a linear model type. Using these inputs, the function will evaulate all possible combinations (within the min and max) of the features, fit and score the resulting models and output a dataframe which can be evaluated.  The cat_evaluator function takes data frames for the X matrix and y vector of a regression, a list of categorical variables to consider, a baseline feature set, parameters for the number of combinations to evaluate and a linear model type. Using these inputs, the function will evaulate all possible combinations (within the min and max) of the categorical features added to the existing base of numerical variables, fit and score the resulting models and output a dataframe which can be evaluated.\n",
    "\n",
    "It should be noted that these functions can take a long time to run since they consider all specified combinations.\n",
    "\n",
    "The steps are\n",
    "\n",
    "1. Prepare data\n",
    "    * Read in cleaned housing data\n",
    "    * Split the training data into training and test subsets\n",
    "    * Scale the data using Sklearn's standard scaler\n",
    "    * Separate variables into numeric and categorical\n",
    "2. Analyze pairwise correlations\n",
    "    * Determine the 20 variables with the highest correlation with the target variable\n",
    "3. Use a model evaluator approach to evaluate all variable combinations\n",
    "    * Consider all model combinations with 5 and 10 variables by using a linear regression\n",
    "        to generate weights and cross validation to score the model using $R^2$\n",
    "    * Select the highest scoring model\n",
    "4. Add categorical variables to the numeric-variable model of step 3\n",
    "    * Consider all model combinations which combine the numeric variable model of step 3 \n",
    "        with various categorical variables in the form of dummy variables; consider all dummies \n",
    "        associated with a particular categoric as a group when evaluating models\n",
    "5. Evaluate the model of step 4\n",
    "    * Use the Stats API linear regression output evaluate both overall model performance and \n",
    "        the contribution of individual variables\n",
    "    * Examine model performance by plotting actual verus predicted housing prices and the residuals \n",
    "        of the regression\n",
    "6. Train the model on the entire training data set and write test-set predictions to a file\n",
    "    \n",
    "    \n",
    "    "
   ]
  },
  {
   "cell_type": "markdown",
   "metadata": {},
   "source": [
    "## Import libraries"
   ]
  },
  {
   "cell_type": "code",
   "execution_count": 1,
   "metadata": {},
   "outputs": [],
   "source": [
    "# Imports:\n",
    "import numpy as np\n",
    "import pandas as pd\n",
    "import os\n",
    "import seaborn as sns\n",
    "import matplotlib.pyplot as plt\n",
    "\n",
    "from sklearn.linear_model import LinearRegression, LassoCV, RidgeCV, Ridge, Lasso\n",
    "from sklearn.preprocessing import PolynomialFeatures, PowerTransformer\n",
    "from sklearn.preprocessing import StandardScaler, PolynomialFeatures\n",
    "\n",
    "from sklearn.model_selection import train_test_split, cross_val_score, cross_val_predict\n",
    "from sklearn.metrics import r2_score\n",
    "\n",
    "from sklearn.preprocessing import StandardScaler\n",
    "\n",
    "from scipy import stats\n",
    "import statsmodels.api as sm\n",
    "\n",
    "import statsmodels.api as sm\n",
    "\n",
    "from itertools import combinations\n",
    "\n",
    "%matplotlib inline\n",
    "\n",
    "# Set the graph style\n",
    "sns.set_style('whitegrid')\n",
    "\n",
    "# Suppress warnings\n",
    "import warnings\n",
    "warnings.filterwarnings('ignore')"
   ]
  },
  {
   "cell_type": "markdown",
   "metadata": {},
   "source": [
    "## Read in data"
   ]
  },
  {
   "cell_type": "code",
   "execution_count": 2,
   "metadata": {},
   "outputs": [
    {
     "name": "stdout",
     "output_type": "stream",
     "text": [
      "(2051, 274) (879, 274) (2051, 1)\n"
     ]
    }
   ],
   "source": [
    "# Set relative data path\n",
    "data_path = \"../datasets\"\n",
    "test_dataframe_name = \"test_clean.csv\"\n",
    "train_dataframe_name = \"train_clean.csv\"\n",
    "y_trn_dataframe_name = \"y_clean.csv\"\n",
    "\n",
    "X1_trn = pd.read_csv(os.path.join(data_path, train_dataframe_name))\n",
    "X1_tst = pd.read_csv(os.path.join(data_path, test_dataframe_name))\n",
    "y_trn = pd.read_csv(os.path.join(data_path, y_trn_dataframe_name))\n",
    "\n",
    "print(X1_trn.shape, X1_tst.shape, y_trn.shape)"
   ]
  },
  {
   "cell_type": "code",
   "execution_count": 3,
   "metadata": {},
   "outputs": [],
   "source": [
    "# Establish lists of variable types\n",
    "cat_features = ['ms_subclass', 'ms_zoning', 'util', 'lot_config',\n",
    "                'neigh', 'bld_type', 'hs_style', \n",
    "                'ext_qual', 'ext_cond', 'bsmt_cond', 'heat_qc', 'cen_air',\n",
    "                'kit_qual', 'funct','garag_type', 'misc_feat','sale_type',\n",
    "                'street', 'lot_shape','land_cont', 'land_slop', 'cond1', 'cond2',\n",
    "                'roof_style', 'roof_matl','ext_1st', 'ext_2nd', 'mas_vnr_type', 'found','bsmt_qual',\n",
    "                'bsmt_exp','bsmt_fin_type_1','bsmt_fin_type_2','heating','electrical',\n",
    "                'fireplc_qu','garg_fnsh','garg_qlty','garg_cnd','pvd_drive']\n",
    "\n",
    "num_features = ['lot_area', 'over_qual', 'over_cond',\n",
    "                'tot_bsmt_sf', 'gr_liv_area', 'bsmt_full_bath',\n",
    "                'bsmt_half_bath', 'full_bath', 'half_bath', 'bed_abvgr',\n",
    "                'enc_porch', 'mon_sold', 'yr_sold', 'mas_vnr_area', 'bsmt_fin_sf',\n",
    "                'bsmt_fin_sf_2','bsmt_unf_sf','low_qual_fin_sf','kitch_abv_gr','tot_rms_abv_grd',\n",
    "                'fireplcs','garg_cars', 'garg_area','wood_dck_sf', 'opn_prch_sf',\n",
    "                '3sn_prch', 'scrn_prch', 'pool_area','misc_val','1st_flr_sf', '2nd_flr_sf',\n",
    "                'age_home_at_sale','age_remodel_at_sale']\n"
   ]
  },
  {
   "cell_type": "markdown",
   "metadata": {},
   "source": [
    "### Split the training data into training and testing subsets"
   ]
  },
  {
   "cell_type": "code",
   "execution_count": 4,
   "metadata": {},
   "outputs": [],
   "source": [
    "# Split the training data\n",
    "X1_trn_trn, X1_trn_tst, y_trn_trn, y_trn_tst = train_test_split(X1_trn, y_trn, random_state=223)\n"
   ]
  },
  {
   "cell_type": "markdown",
   "metadata": {},
   "source": [
    "### Scale the data\n"
   ]
  },
  {
   "cell_type": "code",
   "execution_count": null,
   "metadata": {},
   "outputs": [],
   "source": [
    "# Use the standard scaler to scale the data\n",
    "ss = StandardScaler()\n",
    "ss.fit(X1_trn_trn)\n",
    "X1_trn_trn_s = pd.DataFrame(ss.transform(X1_trn_trn))\n",
    "X1_trn_trn_s.columns = X1_trn_trn.columns\n",
    "X1_trn_tst_s = pd.DataFrame(ss.transform(X1_trn_tst))\n",
    "X1_trn_tst_s.columns = X1_trn_tst.columns\n"
   ]
  },
  {
   "cell_type": "markdown",
   "metadata": {},
   "source": [
    "## Define functions"
   ]
  },
  {
   "cell_type": "code",
   "execution_count": null,
   "metadata": {},
   "outputs": [],
   "source": [
    "def correl_plot(df, c_title, figsize, annot=True):\n",
    "    # Examine correlations of the participation rates and scores\n",
    "    fig = plt.figure(figsize=figsize)\n",
    "    mask = np.triu(np.ones_like(df.corr()))\n",
    "    ax = sns.heatmap(df.corr(), \n",
    "                     annot = annot,\n",
    "                     annot_kws = {\"size\" : 12},\n",
    "                     mask=mask,\n",
    "                     cmap = \"gist_earth\")\n",
    "    ax.set_title(c_title, fontsize = 14)\n",
    "    ax.tick_params(axis=\"x\", rotation = 90, labelsize = 12)\n",
    "    ax.tick_params(axis=\"y\", rotation = 0, labelsize = 12)\n",
    "    y_min, y_max = ax.get_ylim()\n",
    "    x_min, x_max = ax.get_xlim()\n",
    "    ax.set_ylim(top=y_max+1)\n",
    "    ax.set_xlim(right=x_max-1)\n",
    "    # Credit Douglas Strodtman from the Abalone example\n",
    "\n",
    "    \n",
    "def find_most_corr(df, col, ret_n = 5):\n",
    "    # Get the \n",
    "    corrlist=[]\n",
    "    # For each column in the dataframe get the correlation with col (except col)\n",
    "    for column in df.columns:\n",
    "        if col != column:\n",
    "            corrlist.append({'column' : column,\n",
    "                             'abs(corr)': abs(np.corrcoef(df[col], df[column])[0][1])})\n",
    "    # Create a dataframe for sorting\n",
    "    corr_df = pd.DataFrame(corrlist)\n",
    "    corr_df = corr_df.sort_values(by = 'abs(corr)', ascending = False)\n",
    "    # Return the names of the variables\n",
    "    return list(corr_df['column'][:ret_n])\n",
    "   \n",
    "    \n",
    "# Function to generate and evaluate linear regression models from a set of features\n",
    "def model_evaluator(X, y, features, min_n, max_n, linear_model = 'lin_regr'):\n",
    "\n",
    "    # Instantiate the linear regression model\n",
    "    if linear_model == 'lin_regr':\n",
    "        lm = LinearRegression()\n",
    "    elif linear_model == 'lasso':\n",
    "        lm = LassoCV(n_alphas = 100, cv = 5)\n",
    "    elif linear_model == 'ridge':\n",
    "        lm = RidgeCV(alphas=np.linspace(.1, 10, 100), cv = 5)\n",
    "    else:\n",
    "        return\n",
    "    \n",
    "    # Set up the model list\n",
    "    model_library = []\n",
    "    \n",
    "    # Loop through all combinations starting with 1 variable and ending with number of columns in X\n",
    "    for i in range(min_n, max_n + 1):\n",
    "        # Get the i combinations from features\n",
    "        combos = list(combinations(features, i))\n",
    "        \n",
    "        # For each pair create a model, generate predictions, score it and save in a dictionary\n",
    "        for combo in combos:\n",
    "            # Get this list of features\n",
    "            feat_sub = list(combo)\n",
    "            # Create a new X with a subset of features\n",
    "            X_sub = X[feat_sub]\n",
    "            # fit the model and generate predictions\n",
    "            model = lm.fit(X_sub, y)\n",
    "            pred = model.predict(X_sub)\n",
    "            # score the model \n",
    "            score_cv = cross_val_score(lm, X_sub, y, cv = 2).mean()\n",
    "            # save this model in a list of dictionaries \n",
    "            model_library.append({\n",
    "                'Model': linear_model,\n",
    "                'Combo': list(combo),\n",
    "                'CV R2': score_cv,\n",
    "                'Intercept': model.intercept_,\n",
    "                'Coeff' : model.coef_,\n",
    "                'Pred' : pred,\n",
    "            })\n",
    "\n",
    "    return pd.DataFrame(model_library)\n",
    "\n",
    "\n",
    "# Function to return a list of variables from the same category variable\n",
    "def cat_list(df, cat):\n",
    "    return [x for x in df.columns if cat in x ]\n",
    " \n",
    "    \n",
    "# Function to evaluate the introduction of a categorical variable against models\n",
    "def cat_evaluator(X, y, cat_lists, var_combos, min_cat, max_cat, linear_model = 'line_regr'):\n",
    "\n",
    "    # Instantiate the linear regression model\n",
    "    if linear_model == 'line_regr':\n",
    "        lm = LinearRegression()\n",
    "    elif linear_model == 'lasso':\n",
    "        lm = LassoCV(n_alphas = 100, cv = 5)\n",
    "    elif linear_model == 'ridge':\n",
    "        lm = RidgeCV(alphas=np.linspace(.1, 10, 100), cv = 5)\n",
    "    else:\n",
    "        return\n",
    "    \n",
    "    # Set up the model list\n",
    "    model_library = []\n",
    "\n",
    "    # for each category list in the cat_lists\n",
    "    # add the category variables (in a list) to each variable combination in var_combos\n",
    "    for i in range(min_cat, max_cat + 1):\n",
    "        # Get the combination of cat_lists\n",
    "        combos = combinations(cat_lists, i)\n",
    "        for combo in combos:\n",
    "            cat_list = []\n",
    "            for category in combo:\n",
    "                cat_list += category\n",
    "            for var_combo in var_combos:              \n",
    "                feat_sub = var_combo[:]\n",
    "                feat_sub.extend(cat_list)\n",
    "                # Create a new X with a subset of features\n",
    "                X_sub = X[feat_sub]\n",
    "                # fit the model and generate predictions\n",
    "                model = lm.fit(X_sub, y)\n",
    "                pred = model.predict(X_sub)\n",
    "                # score the model \n",
    "                score_cv = cross_val_score(lm, X_sub, y, cv = 2).mean()\n",
    "                # save this model in a list of dictionaries\n",
    "                model_library.append({\n",
    "                    'Model': linear_model,\n",
    "                    'Combo': feat_sub,\n",
    "                    'CV R2': score_cv,\n",
    "                    'Intercept': model.intercept_,\n",
    "                    'Coeff' : model.coef_,\n",
    "                    'Pred' : pred,\n",
    "                })\n",
    "\n",
    "    return pd.DataFrame(model_library)\n",
    "\n",
    "def write_pred(df, out_file):\n",
    "    # Open the test file to get the ID\n",
    "    test_file_name = \"test.csv\"\n",
    "    a_tst = pd.read_csv(os.path.join(data_path, test_file_name))\n",
    "    pred_out = a_tst[['Id']].join(df).sort_values(by='Id')\n",
    "    # Save the predictions to a csv file\n",
    "    pred_out.to_csv(os.path.join(data_path, out_file), header = ['Id','SalePrice'], index = False)\n",
    "\n",
    "\n",
    "def eval_model(y_act, y_pred):\n",
    "    \n",
    "    # Make a copy of the y_act dataframe\n",
    "    df = y_act.copy()\n",
    "    # Copy y_pred into the data frame\n",
    "    try:\n",
    "        df['pred'] = [x[0] for x in y_pred]\n",
    "    except:\n",
    "        df['pred'] = [x for x in y_pred]\n",
    "    \n",
    "    df.columns=['act','pred']\n",
    "    # create residuals\n",
    "    df['res'] = df['act'] - df['pred']\n",
    "    # get the r2 score\n",
    "    r2 = r2_score(df['act'], df['pred'])\n",
    "    # do the normality test\n",
    "    k2, p = stats.normaltest(df['res'])\n",
    "    \n",
    "    # specify your figsize and the number of plots on that figure\n",
    "    fig, ax = plt.subplots(nrows=2, ncols=2, figsize = (15,12))\n",
    "\n",
    "    fig.suptitle('Model analysis', fontsize = 16)\n",
    "    \n",
    "    # Plot the scatter of the predicted versus actual\n",
    "    ax[0][0] = sns.scatterplot('act','pred', data=df, ax = ax[0][0])\n",
    "    ax[0][0] = sns.lineplot('act','act', data=df, ax = ax[0][0], color = 'grey')\n",
    "    ax[0][0].set_title('Predicted versus actuals', fontsize = 14)\n",
    "    ax[0][0].set_xlabel('Actuals', fontsize = 12)\n",
    "    ax[0][0].set_ylabel('Predicted', fontsize = 12)\n",
    "    ax[0][0].text(.25, .75, f\"$R^2$ {r2:.4}\", horizontalalignment='left',\n",
    "                  size='large', color='grey', weight='semibold', transform=ax[0][0].transAxes)\n",
    "    ax[0][0].grid(False)\n",
    "    \n",
    "    # Plot the scatter of the residuals versus actuals\n",
    "    ax[0][1] = sns.scatterplot(x = 'act',y = 'res', data=df, ax = ax[0][1])\n",
    "    ax[0][1].set_title('Residuals versus actuals', fontsize = 14)\n",
    "    ax[0][1].set_xlabel('Actuals', fontsize = 12)\n",
    "    ax[0][1].set_ylabel('Residuals', fontsize = 12)\n",
    "    ax[0][1].axhline(y=0, color = 'grey')\n",
    "    ax[0][1].grid(False)\n",
    "    \n",
    "    # Plot the residuals\n",
    "    ax[1][0] = sns.scatterplot(x = df.index,y = 'res', data=df, ax = ax[1][0])\n",
    "    ax[1][0].set_title('Residuals versus an index', fontsize = 14)\n",
    "    ax[1][0].set_xlabel('Index', fontsize = 12)\n",
    "    ax[1][0].set_ylabel('Residuals', fontsize = 12)\n",
    "    ax[1][0].axhline(y=0, color = 'grey')\n",
    "    ax[1][0].grid(False)\n",
    "    \n",
    "    # Plot the histogram of residuals\n",
    "    ax[1][1] = sns.distplot( df['res'], ax = ax[1][1])\n",
    "    ax[1][1].set_title('Histogram of residuals', fontsize = 14)\n",
    "    ax[1][1].set_xlabel('Residuals', fontsize = 12)\n",
    "    ax[1][1].set_ylabel('Distribution', fontsize = 12)\n",
    "    ax[1][1].text(.05,.95, f\"p value for $H_0$: residuals are normal {r2:.4}\", \n",
    "                  horizontalalignment='left', size='large', color='grey', weight='semibold', \n",
    "                  transform=ax[1][1].transAxes)\n",
    "    ax[1][1].grid(False)\n",
    "    \n",
    "    # https://stackoverflow.com/questions/26097916/convert-pandas-series-to-dataframe\n",
    "    # https://www.blog.pythonlibrary.org/2018/03/13/python-3-an-intro-to-f-strings/\n",
    "    # https://jakevdp.github.io/PythonDataScienceHandbook/04.09-text-and-annotation.html\n",
    "\n",
    "    \n",
    "def view_lr_summary(X,y):    \n",
    "    # Use stats models to generate a summary of the regression\n",
    "    # Copy the X and y and reset index of y to be equal to x\n",
    "    X1 = X.copy()\n",
    "    y1 = y.copy()\n",
    "    y1.index = X1.index\n",
    "    X1 = sm.add_constant(X1)\n",
    "    model = sm.OLS(y1, X1)\n",
    "    results =  model.fit()\n",
    "    # return the results\n",
    "    return results.summary()\n",
    "\n",
    "def large_scatter(y_act, y_pred):\n",
    "     # Make a copy of the y_act dataframe\n",
    "    df = y_act.copy()\n",
    "    # Copy y_pred into the data frame\n",
    "    try:\n",
    "        df['pred'] = [x[0] for x in y_pred]\n",
    "    except:\n",
    "        df['pred'] = [x for x in y_pred]\n",
    "    \n",
    "    df.columns=['act','pred']\n",
    "    # create residuals\n",
    "    df['res'] = df['act'] - df['pred']\n",
    "    # get the r2 score\n",
    "    r2 = r2_score(df['act'], df['pred'])\n",
    "    # do the normality test\n",
    "    k2, p = stats.normaltest(df['res'])\n",
    "    \n",
    "    # specify your figsize and the number of plots on that figure\n",
    "    fig, ax = plt.subplots(nrows=1, ncols=1, figsize = (16,14))\n",
    "\n",
    "    # Plot the scatter of the predicted versus actual\n",
    "    ax = sns.scatterplot('act','pred', data=df, ax = ax, s=200, legend = False)\n",
    "    ax = sns.lineplot('act','act', data=df, ax = ax, color = 'grey', size=['act'], sizes = [5], legend = False)\n",
    "    ax.set_title('Predicted versus actuals', fontsize = 40, color = 'grey', weight = 'semibold')\n",
    "    ax.set_xlabel('Actuals', fontsize = 30, color = 'grey', weight = 'semibold')\n",
    "    ax.set_ylabel('Predicted', fontsize = 30, color = 'grey',weight = 'semibold')\n",
    "    ax.tick_params(axis=\"x\", labelsize=25)\n",
    "    ax.tick_params(axis='y', labelsize=25)\n",
    "    ax.text(.25, .75, f\"$R^2$ {r2:.4}\", horizontalalignment='left', fontsize = 40,\n",
    "                  color='grey', weight='semibold', transform=ax.transAxes)\n",
    "    ax.grid(False)\n"
   ]
  },
  {
   "cell_type": "markdown",
   "metadata": {},
   "source": [
    "## Model preparation"
   ]
  },
  {
   "cell_type": "markdown",
   "metadata": {},
   "source": [
    "### View correlations"
   ]
  },
  {
   "cell_type": "code",
   "execution_count": null,
   "metadata": {},
   "outputs": [
    {
     "data": {
      "image/png": "[encoded data removed]",
      "text/plain": [
       "<Figure size 1080x648 with 2 Axes>"
      ]
     },
     "metadata": {
      "needs_background": "light"
     },
     "output_type": "display_data"
    }
   ],
   "source": [
    "# View a correlation matrix of the \n",
    "df = y_trn.join(X1_trn[num_features])\n",
    "c_title = \"Correlation matrix of numerical features\"\n",
    "correl_plot(df, c_title, (15,9), False)"
   ]
  },
  {
   "cell_type": "markdown",
   "metadata": {},
   "source": [
    "## Numeric feature modeling\n"
   ]
  },
  {
   "cell_type": "markdown",
   "metadata": {},
   "source": [
    "###  Use model_evaluator\n",
    "\n",
    "Use the model_evaluator function to generate and score models of all combinations of numeric variables.  The output is stored in a dataframe.\n",
    "\n",
    "The logic is to select the most correlated variables and to use those to evaluate models of various sizes.  The model evaluator function considers all combinations of the specified size models and uses OLS to fit and score the models.  The scoring tool employs cross_val_score."
   ]
  },
  {
   "cell_type": "code",
   "execution_count": null,
   "metadata": {},
   "outputs": [],
   "source": [
    "# find the variables with highest correlation\n",
    "df = y_trn.join(X1_trn[num_features])\n",
    "var = find_most_corr(df, 'sale_price', ret_n = 15)\n"
   ]
  },
  {
   "cell_type": "code",
   "execution_count": null,
   "metadata": {},
   "outputs": [
    {
     "name": "stdout",
     "output_type": "stream",
     "text": [
      "Finished:  5\n",
      "Finished:  10\n"
     ]
    }
   ],
   "source": [
    "# Evaluate all the model combinations of num_features \n",
    "# Store in a dataframe for evaluation\n",
    "# Create a dataframe of linear regression models\n",
    "lr_nums=[]\n",
    "for i in [5, 10]:\n",
    "    lr_num_models = model_evaluator(X1_trn_trn_s, y_trn_trn, var, i, i, linear_model = 'lin_regr')\n",
    "    lr_nums.append(lr_num_models)\n",
    "    print(\"Finished: \", i)\n",
    "    "
   ]
  },
  {
   "cell_type": "code",
   "execution_count": null,
   "metadata": {},
   "outputs": [
    {
     "data": {
      "text/html": [
       "<div>\n",
       "<style scoped>\n",
       "    .dataframe tbody tr th:only-of-type {\n",
       "        vertical-align: middle;\n",
       "    }\n",
       "\n",
       "    .dataframe tbody tr th {\n",
       "        vertical-align: top;\n",
       "    }\n",
       "\n",
       "    .dataframe thead th {\n",
       "        text-align: right;\n",
       "    }\n",
       "</style>\n",
       "<table border=\"1\" class=\"dataframe\">\n",
       "  <thead>\n",
       "    <tr style=\"text-align: right;\">\n",
       "      <th></th>\n",
       "      <th>CV R2</th>\n",
       "      <th>Coeff</th>\n",
       "      <th>Combo</th>\n",
       "      <th>Intercept</th>\n",
       "      <th>Model</th>\n",
       "      <th>Pred</th>\n",
       "    </tr>\n",
       "  </thead>\n",
       "  <tbody>\n",
       "    <tr>\n",
       "      <th>283</th>\n",
       "      <td>0.813231</td>\n",
       "      <td>[[28103.941462018567, 23239.34978297405, 9731....</td>\n",
       "      <td>[over_qual, gr_liv_area, garg_area, garg_cars,...</td>\n",
       "      <td>[182079.46879063718]</td>\n",
       "      <td>lin_regr</td>\n",
       "      <td>[[6684.043099798757], [201369.57226059938], [2...</td>\n",
       "    </tr>\n",
       "    <tr>\n",
       "      <th>698</th>\n",
       "      <td>0.813048</td>\n",
       "      <td>[[28016.27779021297, 24634.51169478597, 9577.0...</td>\n",
       "      <td>[over_qual, gr_liv_area, garg_area, 1st_flr_sf...</td>\n",
       "      <td>[182079.46879063718]</td>\n",
       "      <td>lin_regr</td>\n",
       "      <td>[[6905.770063815406], [201288.95812279198], [2...</td>\n",
       "    </tr>\n",
       "    <tr>\n",
       "      <th>493</th>\n",
       "      <td>0.812835</td>\n",
       "      <td>[[26690.854099187487, 23779.36846540338, 9526....</td>\n",
       "      <td>[over_qual, gr_liv_area, garg_area, tot_bsmt_s...</td>\n",
       "      <td>[182079.46879063718]</td>\n",
       "      <td>lin_regr</td>\n",
       "      <td>[[8241.662983265443], [203230.00560966993], [2...</td>\n",
       "    </tr>\n",
       "    <tr>\n",
       "      <th>688</th>\n",
       "      <td>0.812753</td>\n",
       "      <td>[[28139.99413135867, 24744.474091341304, 9511....</td>\n",
       "      <td>[over_qual, gr_liv_area, garg_area, 1st_flr_sf...</td>\n",
       "      <td>[182079.46879063718]</td>\n",
       "      <td>lin_regr</td>\n",
       "      <td>[[5178.938137939578], [200399.15586328646], [2...</td>\n",
       "    </tr>\n",
       "    <tr>\n",
       "      <th>271</th>\n",
       "      <td>0.812536</td>\n",
       "      <td>[[27964.515755899687, 24333.258519183466, 9412...</td>\n",
       "      <td>[over_qual, gr_liv_area, garg_area, garg_cars,...</td>\n",
       "      <td>[182079.46879063718]</td>\n",
       "      <td>lin_regr</td>\n",
       "      <td>[[7204.286088559049], [200886.21717140818], [2...</td>\n",
       "    </tr>\n",
       "  </tbody>\n",
       "</table>\n",
       "</div>"
      ],
      "text/plain": [
       "        CV R2                                              Coeff  \\\n",
       "283  0.813231  [[28103.941462018567, 23239.34978297405, 9731....   \n",
       "698  0.813048  [[28016.27779021297, 24634.51169478597, 9577.0...   \n",
       "493  0.812835  [[26690.854099187487, 23779.36846540338, 9526....   \n",
       "688  0.812753  [[28139.99413135867, 24744.474091341304, 9511....   \n",
       "271  0.812536  [[27964.515755899687, 24333.258519183466, 9412...   \n",
       "\n",
       "                                                 Combo             Intercept  \\\n",
       "283  [over_qual, gr_liv_area, garg_area, garg_cars,...  [182079.46879063718]   \n",
       "698  [over_qual, gr_liv_area, garg_area, 1st_flr_sf...  [182079.46879063718]   \n",
       "493  [over_qual, gr_liv_area, garg_area, tot_bsmt_s...  [182079.46879063718]   \n",
       "688  [over_qual, gr_liv_area, garg_area, 1st_flr_sf...  [182079.46879063718]   \n",
       "271  [over_qual, gr_liv_area, garg_area, garg_cars,...  [182079.46879063718]   \n",
       "\n",
       "        Model                                               Pred  \n",
       "283  lin_regr  [[6684.043099798757], [201369.57226059938], [2...  \n",
       "698  lin_regr  [[6905.770063815406], [201288.95812279198], [2...  \n",
       "493  lin_regr  [[8241.662983265443], [203230.00560966993], [2...  \n",
       "688  lin_regr  [[5178.938137939578], [200399.15586328646], [2...  \n",
       "271  lin_regr  [[7204.286088559049], [200886.21717140818], [2...  "
      ]
     },
     "execution_count": 10,
     "metadata": {},
     "output_type": "execute_result"
    }
   ],
   "source": [
    "# view the top models \n",
    "lr_nums[1].sort_values(by='CV R2', ascending = False).head()"
   ]
  },
  {
   "cell_type": "code",
   "execution_count": null,
   "metadata": {
    "scrolled": true
   },
   "outputs": [],
   "source": [
    "# join the two model dataframes into one\n",
    "lr_num_models = pd.concat(lr_nums)\n"
   ]
  },
  {
   "cell_type": "code",
   "execution_count": null,
   "metadata": {},
   "outputs": [
    {
     "data": {
      "text/plain": [
       "(6006, 6)"
      ]
     },
     "execution_count": 12,
     "metadata": {},
     "output_type": "execute_result"
    }
   ],
   "source": [
    "# Show the models considered\n",
    "lr_num_models.shape\n"
   ]
  },
  {
   "cell_type": "code",
   "execution_count": null,
   "metadata": {
    "scrolled": true
   },
   "outputs": [],
   "source": [
    "# Store the variable combinations for the top models in a list\n",
    "lr_top_num_models = list(lr_num_models.sort_values(by = 'CV R2', ascending = False)['Combo'][:1])\n"
   ]
  },
  {
   "cell_type": "markdown",
   "metadata": {},
   "source": [
    "## Add in categorical variables\n",
    "\n",
    "The cat_evaluator takes the out of the model evaluation and adds in categorical variables.  It does so, by grouping all dummies associated with one category into a list.  It then adds this list to the existing variable base and scores the model, again using cross-value score.  It evaluates all possible combinations of these models between the specified minimum and maximum and returns the results in a dataframe.\n"
   ]
  },
  {
   "cell_type": "code",
   "execution_count": null,
   "metadata": {},
   "outputs": [],
   "source": [
    "# For each category feature create a list of related columns\n",
    "# cat_lists is a list of lists \n",
    "cat_lists = [ cat_list(X1_trn, cat) for cat in cat_features]\n"
   ]
  },
  {
   "cell_type": "code",
   "execution_count": null,
   "metadata": {},
   "outputs": [],
   "source": [
    "# Add the category variables \n",
    "# Evaluate adding the category variables to the existing linear regression sets\n",
    "lr_num_cat_models = cat_evaluator(X1_trn_trn_s, y_trn_trn, cat_lists, lr_top_num_models, 1, 4, linear_model = 'line_regr')\n"
   ]
  },
  {
   "cell_type": "code",
   "execution_count": null,
   "metadata": {},
   "outputs": [],
   "source": [
    "# Look at the size of this data frame\n",
    "lr_num_cat_models.shape\n"
   ]
  },
  {
   "cell_type": "code",
   "execution_count": null,
   "metadata": {},
   "outputs": [],
   "source": [
    "# Look at the top models with categorical variables\n",
    "lr_num_cat_models.sort_values(by ='CV R2', ascending = False).head()"
   ]
  },
  {
   "cell_type": "markdown",
   "metadata": {},
   "source": [
    "### Pick the top performing model on the training subset of the training data"
   ]
  },
  {
   "cell_type": "code",
   "execution_count": null,
   "metadata": {},
   "outputs": [],
   "source": [
    "# Store the variable combinations for the top models in a list\n",
    "lr_top_models = list(lr_num_cat_models.sort_values(by = 'CV R2', ascending = False)['Combo'][:15])\n",
    "\n",
    "lr_best_model = list(lr_num_cat_models.sort_values(by = 'CV R2', ascending = False)['Combo'][:1])\n"
   ]
  },
  {
   "cell_type": "code",
   "execution_count": null,
   "metadata": {},
   "outputs": [],
   "source": [
    "# Get the training R2 for this model\n",
    "R2 = lr_num_cat_models.sort_values(by = 'CV R2', ascending = False)['CV R2'][:1]\n",
    "print(\"Linear regression: R2\", R2)\n"
   ]
  },
  {
   "cell_type": "markdown",
   "metadata": {},
   "source": [
    "## Test the model on training test set"
   ]
  },
  {
   "cell_type": "code",
   "execution_count": null,
   "metadata": {},
   "outputs": [],
   "source": [
    "# Examine teh top linear regression model from above\n",
    "lr = LinearRegression()\n",
    "model_lr = lr.fit(X1_trn_trn_s[lr_best_model[0]], y_trn_trn)\n",
    "pred_lr_trn_tst = lr.predict(X1_trn_tst_s[lr_best_model[0]])\n",
    "\n",
    "r2_score(y_trn_tst, pred_lr_trn_tst)"
   ]
  },
  {
   "cell_type": "markdown",
   "metadata": {},
   "source": [
    "## Evaluate the model"
   ]
  },
  {
   "cell_type": "markdown",
   "metadata": {},
   "source": [
    "### Use the statsmodels api to see a summary of the regression"
   ]
  },
  {
   "cell_type": "code",
   "execution_count": null,
   "metadata": {
    "scrolled": false
   },
   "outputs": [],
   "source": [
    "# Uses stats models to view the lr summary results\n",
    "results = view_lr_summary(X1_trn_trn_s[lr_best_model[0]], y_trn_trn)\n",
    "results\n"
   ]
  },
  {
   "cell_type": "markdown",
   "metadata": {},
   "source": [
    "### Look for multicollinearity\n",
    "\n",
    "From the above results, it is clear that this model suffers for multicollinearity issues and that the coefficients and predictions may not be valid when applied to new data sets.\n"
   ]
  },
  {
   "cell_type": "code",
   "execution_count": null,
   "metadata": {},
   "outputs": [],
   "source": [
    "# draw correlation matrix to look for multi-collineaerity\n",
    "correl_plot(X1_trn_trn_s[lr_best_model[0]], 'Correlation of best model variables', (20,20), annot=False)"
   ]
  },
  {
   "cell_type": "markdown",
   "metadata": {},
   "source": [
    "### Use the eval_model function to examine predictions and residuals"
   ]
  },
  {
   "cell_type": "code",
   "execution_count": null,
   "metadata": {},
   "outputs": [],
   "source": [
    "# Look at various plots of the residuals\n",
    "eval_model(y_trn_tst, pred_lr_trn_tst)\n"
   ]
  },
  {
   "cell_type": "code",
   "execution_count": null,
   "metadata": {},
   "outputs": [],
   "source": [
    "# Print the columns\n",
    "print(lr_best_model[0])\n"
   ]
  },
  {
   "cell_type": "markdown",
   "metadata": {},
   "source": [
    "###  Create a large scatter for the presentation"
   ]
  },
  {
   "cell_type": "code",
   "execution_count": null,
   "metadata": {
    "scrolled": false
   },
   "outputs": [],
   "source": [
    "# Large scatter plot for presentation\n",
    "large_scatter(y_trn_tst, pred_lr_trn_tst)\n"
   ]
  },
  {
   "cell_type": "markdown",
   "metadata": {},
   "source": [
    "### Train the model on the entire training data set\n"
   ]
  },
  {
   "cell_type": "code",
   "execution_count": null,
   "metadata": {},
   "outputs": [],
   "source": [
    "# Update the scalar to include all of the data in the training set\n",
    "ss = StandardScaler()\n",
    "ss.fit(X1_trn)\n",
    "X1_trn_s = pd.DataFrame(ss.transform(X1_trn))\n",
    "X1_trn_s.columns = X1_trn.columns\n",
    "X1_tst_s = pd.DataFrame(ss.transform(X1_tst))\n",
    "X1_tst_s.columns = X1_tst.columns\n"
   ]
  },
  {
   "cell_type": "code",
   "execution_count": null,
   "metadata": {},
   "outputs": [],
   "source": [
    "# Update the linear regression model to the full training set\n",
    "lr = LinearRegression()\n",
    "model_lr = lr.fit(X1_trn_s[lr_best_model[0]], y_trn)\n",
    "pred_lr_trn = lr.predict(X1_trn_s[lr_best_model[0]])\n",
    "r2_score(y_trn, pred_lr_trn)\n"
   ]
  },
  {
   "cell_type": "markdown",
   "metadata": {},
   "source": [
    "### Create predictions on the test data set"
   ]
  },
  {
   "cell_type": "code",
   "execution_count": null,
   "metadata": {},
   "outputs": [],
   "source": [
    "# Create test predictions\n",
    "pred_lr_tst = pd.DataFrame(lr.predict(X1_tst_s[lr_best_model[0]]))\n",
    "                           "
   ]
  },
  {
   "cell_type": "markdown",
   "metadata": {},
   "source": [
    "### Write to a file \n"
   ]
  },
  {
   "cell_type": "code",
   "execution_count": null,
   "metadata": {},
   "outputs": [],
   "source": [
    "# write the test set predictions to a file\n",
    "write_pred(pd.DataFrame(pred_lr_tst),\"pred_1f_Steve_Godfrey.csv\" )\n",
    "\n"
   ]
  },
  {
   "cell_type": "code",
   "execution_count": null,
   "metadata": {},
   "outputs": [],
   "source": []
  }
 ],
 "metadata": {
  "kernelspec": {
   "display_name": "Python 3",
   "language": "python",
   "name": "python3"
  },
  "language_info": {
   "codemirror_mode": {
    "name": "ipython",
    "version": 3
   },
   "file_extension": ".py",
   "mimetype": "text/x-python",
   "name": "python",
   "nbconvert_exporter": "python",
   "pygments_lexer": "ipython3",
   "version": "3.6.8"
  }
 },
 "nbformat": 4,
 "nbformat_minor": 2
}
