{
 "cells": [
  {
   "cell_type": "markdown",
   "metadata": {},
   "source": [
    "# Project 2 Ames Housing\n",
    "## Pipeline linear modeling\n",
    "\n",
    "This approach closely follows that presented in class by Mark Popovich and references notes by Douglas Strodtman (SaMo).  \n"
   ]
  },
  {
   "cell_type": "markdown",
   "metadata": {},
   "source": [
    "## Import libraries"
   ]
  },
  {
   "cell_type": "code",
   "execution_count": 53,
   "metadata": {},
   "outputs": [],
   "source": [
    "# Imports:\n",
    "import numpy as np\n",
    "import pandas as pd\n",
    "import os\n",
    "import seaborn as sns\n",
    "import matplotlib.pyplot as plt\n",
    "\n",
    "from sklearn.linear_model import LinearRegression, LassoCV, RidgeCV, Ridge, Lasso\n",
    "from sklearn.preprocessing import PolynomialFeatures, PowerTransformer\n",
    "from sklearn.preprocessing import StandardScaler, PolynomialFeatures\n",
    "\n",
    "from sklearn.pipeline import Pipeline\n",
    "from sklearn.feature_selection import SelectKBest, VarianceThreshold, f_regression, RFE\n",
    "\n",
    "from sklearn.model_selection import train_test_split, cross_val_score, cross_val_predict\n",
    "from sklearn.metrics import r2_score\n",
    "\n",
    "from sklearn.model_selection import GridSearchCV\n",
    "\n",
    "from scipy import stats\n",
    "import statsmodels.api as sm\n",
    "\n",
    "from itertools import combinations\n",
    "\n",
    "%matplotlib inline\n",
    "\n",
    "# Set the graph style\n",
    "sns.set_style('whitegrid')\n",
    "\n",
    "# Suppress warnings\n",
    "import warnings\n",
    "warnings.filterwarnings('ignore')"
   ]
  },
  {
   "cell_type": "markdown",
   "metadata": {},
   "source": [
    "## Read in data"
   ]
  },
  {
   "cell_type": "code",
   "execution_count": 54,
   "metadata": {},
   "outputs": [
    {
     "name": "stdout",
     "output_type": "stream",
     "text": [
      "(2051, 132) (879, 132) (2051, 1)\n"
     ]
    }
   ],
   "source": [
    "# Set relative data path\n",
    "data_path = \"../datasets\"\n",
    "test_dataframe_name = \"test_clean.csv\"\n",
    "train_dataframe_name = \"train_clean.csv\"\n",
    "y_trn_dataframe_name = \"y_clean.csv\"\n",
    "\n",
    "X1_trn = pd.read_csv(os.path.join(data_path, train_dataframe_name))\n",
    "X1_tst = pd.read_csv(os.path.join(data_path, test_dataframe_name))\n",
    "y_trn = pd.read_csv(os.path.join(data_path, y_trn_dataframe_name))\n",
    "\n",
    "print(X1_trn.shape, X1_tst.shape, y_trn.shape)"
   ]
  },
  {
   "cell_type": "code",
   "execution_count": 55,
   "metadata": {},
   "outputs": [],
   "source": [
    "# Establish lists of variable types\n",
    "cat_features = ['ms_subclass', 'ms_zoning', 'util', 'lot_config',\n",
    "                'neigh', 'bld_type', 'hs_style', \n",
    "                'ext_qual', 'ext_cond', 'bsmt_cond', 'heat_qc', 'cen_air',\n",
    "                'kit_qual', 'funct','garag_type', 'pool_qc', 'misc_feat','sale_type']\n",
    "\n",
    "num_features = ['lot_area', 'over_qual', 'over_cond', 'age_home_at_sale',\n",
    "                'age_remodel_at_sale', 'tot_bsmt_sf', 'gr_liv_area', 'bsmt_full_bath',\n",
    "                'bsmt_half_bath', 'full_bath', 'half_bath', 'bed_abvgr',\n",
    "                'enc_porch', 'mon_sold', 'yr_sold']\n"
   ]
  },
  {
   "cell_type": "markdown",
   "metadata": {},
   "source": [
    "### Use polynomial features to add higher order terms"
   ]
  },
  {
   "cell_type": "code",
   "execution_count": 56,
   "metadata": {},
   "outputs": [],
   "source": [
    "# Consider only interaction terms of the numerical columns\n",
    "poly = PolynomialFeatures(interaction_only = True, include_bias = False)\n",
    "X1_trn_p = pd.DataFrame(poly.fit_transform(X1_trn[num_features]))\n",
    "X1_trn_p.columns = poly.get_feature_names(num_features)\n",
    "\n",
    "X1_tst_p = pd.DataFrame(poly.fit_transform(X1_tst[num_features]))\n",
    "X1_tst_p.columns = poly.get_feature_names(num_features)\n"
   ]
  },
  {
   "cell_type": "code",
   "execution_count": 57,
   "metadata": {},
   "outputs": [
    {
     "name": "stdout",
     "output_type": "stream",
     "text": [
      "(2051, 120)\n",
      "(879, 120)\n",
      "(2051, 117)\n",
      "(879, 117)\n"
     ]
    }
   ],
   "source": [
    "X1_trn_temp = X1_trn.drop(columns = num_features)\n",
    "X1_tst_temp = X1_tst.drop(columns = num_features)\n",
    "\n",
    "print(X1_trn_p.shape)\n",
    "print(X1_tst_p.shape)\n",
    "print(X1_trn_temp.shape)\n",
    "print(X1_tst_temp.shape)\n"
   ]
  },
  {
   "cell_type": "code",
   "execution_count": 58,
   "metadata": {},
   "outputs": [
    {
     "name": "stdout",
     "output_type": "stream",
     "text": [
      "(2051, 237)\n",
      "(879, 237)\n"
     ]
    }
   ],
   "source": [
    "# recombine with the categorical variables\n",
    "X1_trn = X1_trn_p.join(X1_trn_temp)\n",
    "X1_tst = X1_tst_p.join(X1_tst_temp)\n",
    "print(X1_trn.shape)\n",
    "print(X1_tst.shape)\n",
    "\n"
   ]
  },
  {
   "cell_type": "markdown",
   "metadata": {},
   "source": [
    "### Split the training data into training and testing subsets"
   ]
  },
  {
   "cell_type": "code",
   "execution_count": 59,
   "metadata": {},
   "outputs": [],
   "source": [
    "# Split the training data\n",
    "X1_trn_trn, X1_trn_tst, y_trn_trn, y_trn_tst = train_test_split(X1_trn, y_trn, random_state=223)\n"
   ]
  },
  {
   "cell_type": "markdown",
   "metadata": {},
   "source": [
    "### Scale the data"
   ]
  },
  {
   "cell_type": "code",
   "execution_count": 60,
   "metadata": {},
   "outputs": [],
   "source": [
    "# Use the standard scaler to scale the data\n",
    "ss = StandardScaler()\n",
    "ss.fit(X1_trn_trn)\n",
    "X1_trn_trn_s = pd.DataFrame(ss.transform(X1_trn_trn))\n",
    "X1_trn_trn_s.columns = X1_trn_trn.columns\n",
    "X1_trn_tst_s = pd.DataFrame(ss.transform(X1_trn_tst))\n",
    "X1_trn_tst_s.columns = X1_trn_tst.columns\n"
   ]
  },
  {
   "cell_type": "markdown",
   "metadata": {},
   "source": [
    "## Define functions\n"
   ]
  },
  {
   "cell_type": "code",
   "execution_count": 84,
   "metadata": {},
   "outputs": [],
   "source": [
    "def eval_model(y_act, y_pred):\n",
    "    \n",
    "    # Make a copy of the y_act dataframe\n",
    "    df = y_act.copy()\n",
    "    # Copy y_pred into the data frame\n",
    "    try:\n",
    "        df['pred'] = [x[0] for x in y_pred]\n",
    "    except:\n",
    "        df['pred'] = [x for x in y_pred]\n",
    "    \n",
    "    df.columns=['act','pred']\n",
    "    # create residuals\n",
    "    df['res'] = df['act'] - df['pred']\n",
    "    # get the r2 score\n",
    "    r2 = r2_score(df['act'], df['pred'])\n",
    "    # do the normality test\n",
    "    k2, p = stats.normaltest(df['res'])\n",
    "    \n",
    "    # specify your figsize and the number of plots on that figure\n",
    "    fig, ax = plt.subplots(nrows=2, ncols=2, figsize = (15,12))\n",
    "\n",
    "    fig.suptitle('Model analysis', fontsize = 16)\n",
    "    \n",
    "    # Plot the scatter of the predicted versus actual\n",
    "    ax[0][0] = sns.scatterplot('act','pred', data=df, ax = ax[0][0])\n",
    "    ax[0][0] = sns.lineplot('act','act', data=df, ax = ax[0][0], color = 'grey')\n",
    "    ax[0][0].set_title('Predicted versus actuals', fontsize = 14)\n",
    "    ax[0][0].set_xlabel('Actuals', fontsize = 12)\n",
    "    ax[0][0].set_ylabel('Predicted', fontsize = 12)\n",
    "    ax[0][0].text(.25, .75, f\"$R^2$ {r2:.4}\", horizontalalignment='left',\n",
    "                  size='large', color='grey', weight='semibold', transform=ax[0][0].transAxes)\n",
    "    ax[0][0].grid(False)\n",
    "    \n",
    "    # Plot the scatter of the residuals versus actuals\n",
    "    ax[0][1] = sns.scatterplot(x = 'act',y = 'res', data=df, ax = ax[0][1])\n",
    "    ax[0][1].set_title('Residuals versus actuals', fontsize = 14)\n",
    "    ax[0][1].set_xlabel('Actuals', fontsize = 12)\n",
    "    ax[0][1].set_ylabel('Residuals', fontsize = 12)\n",
    "    ax[0][1].axhline(y=0, color = 'grey')\n",
    "    ax[0][1].grid(False)\n",
    "    \n",
    "    # Plot the residuals\n",
    "    ax[1][0] = sns.scatterplot(x = df.index,y = 'res', data=df, ax = ax[1][0])\n",
    "    ax[1][0].set_title('Residuals versus an index', fontsize = 14)\n",
    "    ax[1][0].set_xlabel('Index', fontsize = 12)\n",
    "    ax[1][0].set_ylabel('Residuals', fontsize = 12)\n",
    "    ax[1][0].axhline(y=0, color = 'grey')\n",
    "    ax[1][0].grid(False)\n",
    "    \n",
    "    # Plot the histogram of residuals\n",
    "    ax[1][1] = sns.distplot( df['res'], ax = ax[1][1])\n",
    "    ax[1][1].set_title('Histogram of residuals', fontsize = 14)\n",
    "    ax[1][1].set_xlabel('Residuals', fontsize = 12)\n",
    "    ax[1][1].set_ylabel('Distribution', fontsize = 12)\n",
    "    ax[1][1].text(.05,.95, f\"p value for $H_0$: residuals are normal {r2:.4}\", \n",
    "                  horizontalalignment='left', size='large', color='grey', weight='semibold', \n",
    "                  transform=ax[1][1].transAxes)\n",
    "    ax[1][1].grid(False)\n",
    "    \n",
    "    # https://stackoverflow.com/questions/26097916/convert-pandas-series-to-dataframe\n",
    "    # https://www.blog.pythonlibrary.org/2018/03/13/python-3-an-intro-to-f-strings/\n",
    "    # https://jakevdp.github.io/PythonDataScienceHandbook/04.09-text-and-annotation.html\n",
    "\n",
    "\n",
    "def write_pred(df, out_file):\n",
    "    # Open the test file to get the ID\n",
    "    test_file_name = \"test.csv\"\n",
    "    a_tst = pd.read_csv(os.path.join(data_path, test_file_name))\n",
    "    pred_out = a_tst[['Id']].join(df).sort_values(by='Id')\n",
    "    # Save the predictions to a csv file\n",
    "    pred_out.to_csv(os.path.join(data_path, out_file), header = ['Id','SalePrice'], index = False)\n",
    "    \n",
    "    # https://stackoverflow.com/questions/26097916/convert-pandas-series-to-dataframe\n",
    "    # https://www.blog.pythonlibrary.org/2018/03/13/python-3-an-intro-to-f-strings/\n",
    "\n",
    "    \n",
    "def view_lr_summary(X,y):    \n",
    "    # Use stats models to generate a summary of the regression\n",
    "    # Copy the X and y and reset index of y to be equal to x\n",
    "    X1 = X.copy()\n",
    "    y1 = y.copy()\n",
    "    y1.index = X1.index\n",
    "    X1 = sm.add_constant(X1)\n",
    "    model = sm.OLS(y1, X1)\n",
    "    results =  model.fit()\n",
    "    # return the results\n",
    "    return results.summary()\n"
   ]
  },
  {
   "cell_type": "markdown",
   "metadata": {},
   "source": [
    "## Work with a pipeline"
   ]
  },
  {
   "cell_type": "markdown",
   "metadata": {},
   "source": [
    "### Create a pipe"
   ]
  },
  {
   "cell_type": "code",
   "execution_count": 62,
   "metadata": {},
   "outputs": [],
   "source": [
    "# Create a pip\n",
    "pipe = Pipeline([\n",
    "    ('ss', StandardScaler()),\n",
    "    ('kbest',SelectKBest(f_regression, k = 10)),\n",
    "    ('rfe', RFE(Lasso(),n_features_to_select=None))\n",
    "])\n"
   ]
  },
  {
   "cell_type": "markdown",
   "metadata": {},
   "source": [
    "### Establish a grid"
   ]
  },
  {
   "cell_type": "code",
   "execution_count": 65,
   "metadata": {},
   "outputs": [],
   "source": [
    "# Establish the grid parameters to search\n",
    "# In this case we are calling the kbesdt evaluation object and \n",
    "# and Recursive Feature Elimination (RFE)\n",
    "params = {\n",
    "    'kbest__k': [10, 20, 30, 40, 50],\n",
    "    'rfe__n_features_to_select': [5, 7, 9, 11, 20, 30]\n",
    "}\n"
   ]
  },
  {
   "cell_type": "code",
   "execution_count": 66,
   "metadata": {},
   "outputs": [],
   "source": [
    "# Instantiate the grid search object\n",
    "gs_model = GridSearchCV(pipe, params)\n"
   ]
  },
  {
   "cell_type": "markdown",
   "metadata": {},
   "source": [
    "### Fit and score the model"
   ]
  },
  {
   "cell_type": "code",
   "execution_count": 67,
   "metadata": {
    "scrolled": true
   },
   "outputs": [
    {
     "data": {
      "text/plain": [
       "GridSearchCV(cv='warn', error_score='raise-deprecating',\n",
       "       estimator=Pipeline(memory=None,\n",
       "     steps=[('ss', StandardScaler(copy=True, with_mean=True, with_std=True)), ('kbest', SelectKBest(k=10, score_func=<function f_regression at 0x1a1865e400>)), ('rfe', RFE(estimator=Lasso(alpha=1.0, copy_X=True, fit_intercept=True, max_iter=1000,\n",
       "   normalize=False, positive=False, precompute=False, random_state=None,\n",
       "   selection='cyclic', tol=0.0001, warm_start=False),\n",
       "  n_features_to_select=None, step=1, verbose=0))]),\n",
       "       fit_params=None, iid='warn', n_jobs=None,\n",
       "       param_grid={'kbest__k': [10, 20, 30, 40, 50], 'rfe__n_features_to_select': [5, 7, 9, 11, 20, 30]},\n",
       "       pre_dispatch='2*n_jobs', refit=True, return_train_score='warn',\n",
       "       scoring=None, verbose=0)"
      ]
     },
     "execution_count": 67,
     "metadata": {},
     "output_type": "execute_result"
    }
   ],
   "source": [
    "# fit the model\n",
    "gs_model.fit(X1_trn_trn_s, y_trn_trn)\n"
   ]
  },
  {
   "cell_type": "code",
   "execution_count": 68,
   "metadata": {},
   "outputs": [],
   "source": [
    "# Generate predictions from the \n",
    "pred_gs_trn_tst = gs_model.predict(X1_trn_tst_s)\n"
   ]
  },
  {
   "cell_type": "code",
   "execution_count": 69,
   "metadata": {
    "scrolled": true
   },
   "outputs": [
    {
     "name": "stdout",
     "output_type": "stream",
     "text": [
      "0.8963597048027756\n",
      "0.8799270360938812\n"
     ]
    }
   ],
   "source": [
    "# score the training data\n",
    "print(gs_model.score(X1_trn_trn_s, y_trn_trn))\n",
    "print(gs_model.score(X1_trn_tst_s, y_trn_tst))\n"
   ]
  },
  {
   "cell_type": "markdown",
   "metadata": {},
   "source": [
    "## Evaluate the model"
   ]
  },
  {
   "cell_type": "markdown",
   "metadata": {},
   "source": [
    "### Use the eval_model function to examine predictions and residuals"
   ]
  },
  {
   "cell_type": "code",
   "execution_count": 85,
   "metadata": {},
   "outputs": [
    {
     "data": {
      "image/png": "[encoded data removed]",
      "text/plain": [
       "<Figure size 1080x864 with 4 Axes>"
      ]
     },
     "metadata": {},
     "output_type": "display_data"
    }
   ],
   "source": [
    "# Examine the model's performance\n",
    "eval_model(y_trn_tst, pred_gs_trn_tst)\n"
   ]
  },
  {
   "cell_type": "markdown",
   "metadata": {},
   "source": [
    "## Examine the model"
   ]
  },
  {
   "cell_type": "code",
   "execution_count": 71,
   "metadata": {},
   "outputs": [
    {
     "name": "stdout",
     "output_type": "stream",
     "text": [
      "SelectKBest(k=40, score_func=<function f_regression at 0x1a1865e400>)\n",
      "RFE(estimator=Lasso(alpha=1.0, copy_X=True, fit_intercept=True, max_iter=1000,\n",
      "   normalize=False, positive=False, precompute=False, random_state=None,\n",
      "   selection='cyclic', tol=0.0001, warm_start=False),\n",
      "  n_features_to_select=20, step=1, verbose=0)\n"
     ]
    }
   ],
   "source": [
    "# Get the kbest parameters\n",
    "print(gs_model.best_estimator_.named_steps['kbest'])\n",
    "\n",
    "print(gs_model.best_estimator_.named_steps['rfe'])\n"
   ]
  },
  {
   "cell_type": "markdown",
   "metadata": {},
   "source": [
    "## Examine the intercept and coefficients"
   ]
  },
  {
   "cell_type": "code",
   "execution_count": 72,
   "metadata": {},
   "outputs": [
    {
     "name": "stdout",
     "output_type": "stream",
     "text": [
      "Index(['over_qual', 'gr_liv_area', 'lot_area over_qual',\n",
      "       'lot_area tot_bsmt_sf', 'lot_area gr_liv_area',\n",
      "       'over_qual age_remodel_at_sale', 'over_qual tot_bsmt_sf',\n",
      "       'over_qual gr_liv_area', 'over_qual full_bath', 'over_qual yr_sold',\n",
      "       'over_cond age_remodel_at_sale', 'over_cond tot_bsmt_sf',\n",
      "       'age_home_at_sale yr_sold', 'tot_bsmt_sf gr_liv_area',\n",
      "       'tot_bsmt_sf full_bath', 'gr_liv_area bsmt_full_bath',\n",
      "       'gr_liv_area full_bath', 'gr_liv_area yr_sold', 'ext_qual_Gd',\n",
      "       'ext_qual_TA'],\n",
      "      dtype='object')\n"
     ]
    }
   ],
   "source": [
    "# Look at the variables after the transformations\n",
    "columns = X1_trn.columns\n",
    "columns = columns[gs_model.best_estimator_.named_steps['kbest'].get_support()]\n",
    "columns = columns[gs_model.best_estimator_.named_steps['rfe'].get_support()]\n",
    "print(columns)"
   ]
  },
  {
   "cell_type": "code",
   "execution_count": 86,
   "metadata": {},
   "outputs": [],
   "source": [
    "# get the intercept and coefficients\n",
    "intercept = gs_model.best_estimator_.named_steps['rfe'].estimator_.intercept_\n",
    "coefficients = gs_model.best_estimator_.named_steps['rfe'].estimator_.coef_\n"
   ]
  },
  {
   "cell_type": "markdown",
   "metadata": {},
   "source": [
    "## Get the coefficients\n"
   ]
  },
  {
   "cell_type": "code",
   "execution_count": 74,
   "metadata": {},
   "outputs": [
    {
     "data": {
      "text/html": [
       "<div>\n",
       "<style scoped>\n",
       "    .dataframe tbody tr th:only-of-type {\n",
       "        vertical-align: middle;\n",
       "    }\n",
       "\n",
       "    .dataframe tbody tr th {\n",
       "        vertical-align: top;\n",
       "    }\n",
       "\n",
       "    .dataframe thead th {\n",
       "        text-align: right;\n",
       "    }\n",
       "</style>\n",
       "<table border=\"1\" class=\"dataframe\">\n",
       "  <thead>\n",
       "    <tr style=\"text-align: right;\">\n",
       "      <th></th>\n",
       "      <th>coeff</th>\n",
       "    </tr>\n",
       "  </thead>\n",
       "  <tbody>\n",
       "    <tr>\n",
       "      <th>over_qual</th>\n",
       "      <td>67684.156372</td>\n",
       "    </tr>\n",
       "    <tr>\n",
       "      <th>gr_liv_area</th>\n",
       "      <td>13589.345093</td>\n",
       "    </tr>\n",
       "    <tr>\n",
       "      <th>lot_area over_qual</th>\n",
       "      <td>31024.145732</td>\n",
       "    </tr>\n",
       "    <tr>\n",
       "      <th>lot_area tot_bsmt_sf</th>\n",
       "      <td>-16500.516359</td>\n",
       "    </tr>\n",
       "    <tr>\n",
       "      <th>lot_area gr_liv_area</th>\n",
       "      <td>-11938.712967</td>\n",
       "    </tr>\n",
       "    <tr>\n",
       "      <th>over_qual age_remodel_at_sale</th>\n",
       "      <td>-19142.819149</td>\n",
       "    </tr>\n",
       "    <tr>\n",
       "      <th>over_qual tot_bsmt_sf</th>\n",
       "      <td>42920.854871</td>\n",
       "    </tr>\n",
       "    <tr>\n",
       "      <th>over_qual gr_liv_area</th>\n",
       "      <td>68970.606233</td>\n",
       "    </tr>\n",
       "    <tr>\n",
       "      <th>over_qual full_bath</th>\n",
       "      <td>-32311.013711</td>\n",
       "    </tr>\n",
       "    <tr>\n",
       "      <th>over_qual yr_sold</th>\n",
       "      <td>-80346.669977</td>\n",
       "    </tr>\n",
       "    <tr>\n",
       "      <th>over_cond age_remodel_at_sale</th>\n",
       "      <td>15499.505743</td>\n",
       "    </tr>\n",
       "    <tr>\n",
       "      <th>over_cond tot_bsmt_sf</th>\n",
       "      <td>9097.882828</td>\n",
       "    </tr>\n",
       "    <tr>\n",
       "      <th>age_home_at_sale yr_sold</th>\n",
       "      <td>-11832.816165</td>\n",
       "    </tr>\n",
       "    <tr>\n",
       "      <th>tot_bsmt_sf gr_liv_area</th>\n",
       "      <td>-49285.853377</td>\n",
       "    </tr>\n",
       "    <tr>\n",
       "      <th>tot_bsmt_sf full_bath</th>\n",
       "      <td>16224.081313</td>\n",
       "    </tr>\n",
       "    <tr>\n",
       "      <th>gr_liv_area bsmt_full_bath</th>\n",
       "      <td>8355.226150</td>\n",
       "    </tr>\n",
       "    <tr>\n",
       "      <th>gr_liv_area full_bath</th>\n",
       "      <td>21096.819748</td>\n",
       "    </tr>\n",
       "    <tr>\n",
       "      <th>gr_liv_area yr_sold</th>\n",
       "      <td>-17153.079144</td>\n",
       "    </tr>\n",
       "    <tr>\n",
       "      <th>ext_qual_Gd</th>\n",
       "      <td>-8877.717439</td>\n",
       "    </tr>\n",
       "    <tr>\n",
       "      <th>ext_qual_TA</th>\n",
       "      <td>-10423.859919</td>\n",
       "    </tr>\n",
       "  </tbody>\n",
       "</table>\n",
       "</div>"
      ],
      "text/plain": [
       "                                      coeff\n",
       "over_qual                      67684.156372\n",
       "gr_liv_area                    13589.345093\n",
       "lot_area over_qual             31024.145732\n",
       "lot_area tot_bsmt_sf          -16500.516359\n",
       "lot_area gr_liv_area          -11938.712967\n",
       "over_qual age_remodel_at_sale -19142.819149\n",
       "over_qual tot_bsmt_sf          42920.854871\n",
       "over_qual gr_liv_area          68970.606233\n",
       "over_qual full_bath           -32311.013711\n",
       "over_qual yr_sold             -80346.669977\n",
       "over_cond age_remodel_at_sale  15499.505743\n",
       "over_cond tot_bsmt_sf           9097.882828\n",
       "age_home_at_sale yr_sold      -11832.816165\n",
       "tot_bsmt_sf gr_liv_area       -49285.853377\n",
       "tot_bsmt_sf full_bath          16224.081313\n",
       "gr_liv_area bsmt_full_bath      8355.226150\n",
       "gr_liv_area full_bath          21096.819748\n",
       "gr_liv_area yr_sold           -17153.079144\n",
       "ext_qual_Gd                    -8877.717439\n",
       "ext_qual_TA                   -10423.859919"
      ]
     },
     "execution_count": 74,
     "metadata": {},
     "output_type": "execute_result"
    }
   ],
   "source": [
    "model = pd.DataFrame(coefficients, index = columns, columns=['coeff'])\n",
    "model"
   ]
  },
  {
   "cell_type": "markdown",
   "metadata": {},
   "source": [
    "## Look at these variables in a ordinary linear regression model\n",
    "\n"
   ]
  },
  {
   "cell_type": "code",
   "execution_count": 75,
   "metadata": {},
   "outputs": [
    {
     "data": {
      "text/html": [
       "<table class=\"simpletable\">\n",
       "<caption>OLS Regression Results</caption>\n",
       "<tr>\n",
       "  <th>Dep. Variable:</th>       <td>sale_price</td>    <th>  R-squared:         </th> <td>   0.896</td> \n",
       "</tr>\n",
       "<tr>\n",
       "  <th>Model:</th>                   <td>OLS</td>       <th>  Adj. R-squared:    </th> <td>   0.895</td> \n",
       "</tr>\n",
       "<tr>\n",
       "  <th>Method:</th>             <td>Least Squares</td>  <th>  F-statistic:       </th> <td>   656.5</td> \n",
       "</tr>\n",
       "<tr>\n",
       "  <th>Date:</th>             <td>Tue, 19 Mar 2019</td> <th>  Prob (F-statistic):</th>  <td>  0.00</td>  \n",
       "</tr>\n",
       "<tr>\n",
       "  <th>Time:</th>                 <td>17:36:01</td>     <th>  Log-Likelihood:    </th> <td> -17770.</td> \n",
       "</tr>\n",
       "<tr>\n",
       "  <th>No. Observations:</th>      <td>  1538</td>      <th>  AIC:               </th> <td>3.558e+04</td>\n",
       "</tr>\n",
       "<tr>\n",
       "  <th>Df Residuals:</th>          <td>  1517</td>      <th>  BIC:               </th> <td>3.569e+04</td>\n",
       "</tr>\n",
       "<tr>\n",
       "  <th>Df Model:</th>              <td>    20</td>      <th>                     </th>     <td> </td>    \n",
       "</tr>\n",
       "<tr>\n",
       "  <th>Covariance Type:</th>      <td>nonrobust</td>    <th>                     </th>     <td> </td>    \n",
       "</tr>\n",
       "</table>\n",
       "<table class=\"simpletable\">\n",
       "<tr>\n",
       "                <td></td>                   <th>coef</th>     <th>std err</th>      <th>t</th>      <th>P>|t|</th>  <th>[0.025</th>    <th>0.975]</th>  \n",
       "</tr>\n",
       "<tr>\n",
       "  <th>const</th>                         <td> 1.821e+05</td> <td>  647.115</td> <td>  281.371</td> <td> 0.000</td> <td> 1.81e+05</td> <td> 1.83e+05</td>\n",
       "</tr>\n",
       "<tr>\n",
       "  <th>over_qual</th>                     <td>-6.589e+05</td> <td> 8.92e+05</td> <td>   -0.738</td> <td> 0.460</td> <td>-2.41e+06</td> <td> 1.09e+06</td>\n",
       "</tr>\n",
       "<tr>\n",
       "  <th>gr_liv_area</th>                   <td>  8.13e+05</td> <td> 1.25e+06</td> <td>    0.650</td> <td> 0.516</td> <td>-1.64e+06</td> <td> 3.27e+06</td>\n",
       "</tr>\n",
       "<tr>\n",
       "  <th>lot_area over_qual</th>            <td>  3.11e+04</td> <td> 3781.148</td> <td>    8.225</td> <td> 0.000</td> <td> 2.37e+04</td> <td> 3.85e+04</td>\n",
       "</tr>\n",
       "<tr>\n",
       "  <th>lot_area tot_bsmt_sf</th>          <td>-1.643e+04</td> <td> 3581.369</td> <td>   -4.588</td> <td> 0.000</td> <td>-2.35e+04</td> <td>-9404.729</td>\n",
       "</tr>\n",
       "<tr>\n",
       "  <th>lot_area gr_liv_area</th>          <td> -1.21e+04</td> <td> 2718.128</td> <td>   -4.451</td> <td> 0.000</td> <td>-1.74e+04</td> <td>-6766.149</td>\n",
       "</tr>\n",
       "<tr>\n",
       "  <th>over_qual age_remodel_at_sale</th> <td>-1.929e+04</td> <td> 2424.214</td> <td>   -7.957</td> <td> 0.000</td> <td> -2.4e+04</td> <td>-1.45e+04</td>\n",
       "</tr>\n",
       "<tr>\n",
       "  <th>over_qual tot_bsmt_sf</th>         <td> 4.295e+04</td> <td> 4142.212</td> <td>   10.368</td> <td> 0.000</td> <td> 3.48e+04</td> <td> 5.11e+04</td>\n",
       "</tr>\n",
       "<tr>\n",
       "  <th>over_qual gr_liv_area</th>         <td> 6.906e+04</td> <td> 5958.850</td> <td>   11.589</td> <td> 0.000</td> <td> 5.74e+04</td> <td> 8.07e+04</td>\n",
       "</tr>\n",
       "<tr>\n",
       "  <th>over_qual full_bath</th>           <td>-3.275e+04</td> <td> 4625.283</td> <td>   -7.080</td> <td> 0.000</td> <td>-4.18e+04</td> <td>-2.37e+04</td>\n",
       "</tr>\n",
       "<tr>\n",
       "  <th>over_qual yr_sold</th>             <td> 6.463e+05</td> <td> 8.92e+05</td> <td>    0.724</td> <td> 0.469</td> <td> -1.1e+06</td> <td>  2.4e+06</td>\n",
       "</tr>\n",
       "<tr>\n",
       "  <th>over_cond age_remodel_at_sale</th> <td> 1.564e+04</td> <td> 2471.249</td> <td>    6.329</td> <td> 0.000</td> <td> 1.08e+04</td> <td> 2.05e+04</td>\n",
       "</tr>\n",
       "<tr>\n",
       "  <th>over_cond tot_bsmt_sf</th>         <td> 8975.8208</td> <td> 1641.537</td> <td>    5.468</td> <td> 0.000</td> <td> 5755.899</td> <td> 1.22e+04</td>\n",
       "</tr>\n",
       "<tr>\n",
       "  <th>age_home_at_sale yr_sold</th>      <td>-1.189e+04</td> <td> 1043.700</td> <td>  -11.394</td> <td> 0.000</td> <td>-1.39e+04</td> <td>-9844.293</td>\n",
       "</tr>\n",
       "<tr>\n",
       "  <th>tot_bsmt_sf gr_liv_area</th>       <td>-4.948e+04</td> <td> 4827.190</td> <td>  -10.250</td> <td> 0.000</td> <td>-5.89e+04</td> <td>   -4e+04</td>\n",
       "</tr>\n",
       "<tr>\n",
       "  <th>tot_bsmt_sf full_bath</th>         <td> 1.645e+04</td> <td> 4069.586</td> <td>    4.042</td> <td> 0.000</td> <td> 8466.980</td> <td> 2.44e+04</td>\n",
       "</tr>\n",
       "<tr>\n",
       "  <th>gr_liv_area bsmt_full_bath</th>    <td> 8330.7734</td> <td>  745.815</td> <td>   11.170</td> <td> 0.000</td> <td> 6867.837</td> <td> 9793.710</td>\n",
       "</tr>\n",
       "<tr>\n",
       "  <th>gr_liv_area full_bath</th>         <td> 2.135e+04</td> <td> 4657.703</td> <td>    4.583</td> <td> 0.000</td> <td> 1.22e+04</td> <td> 3.05e+04</td>\n",
       "</tr>\n",
       "<tr>\n",
       "  <th>gr_liv_area yr_sold</th>           <td>-8.164e+05</td> <td> 1.25e+06</td> <td>   -0.653</td> <td> 0.514</td> <td>-3.27e+06</td> <td> 1.64e+06</td>\n",
       "</tr>\n",
       "<tr>\n",
       "  <th>ext_qual_Gd</th>                   <td>-8864.9701</td> <td> 1650.115</td> <td>   -5.372</td> <td> 0.000</td> <td>-1.21e+04</td> <td>-5628.223</td>\n",
       "</tr>\n",
       "<tr>\n",
       "  <th>ext_qual_TA</th>                   <td>-1.034e+04</td> <td> 1897.140</td> <td>   -5.450</td> <td> 0.000</td> <td>-1.41e+04</td> <td>-6618.308</td>\n",
       "</tr>\n",
       "</table>\n",
       "<table class=\"simpletable\">\n",
       "<tr>\n",
       "  <th>Omnibus:</th>       <td>286.711</td> <th>  Durbin-Watson:     </th> <td>   2.099</td>\n",
       "</tr>\n",
       "<tr>\n",
       "  <th>Prob(Omnibus):</th> <td> 0.000</td>  <th>  Jarque-Bera (JB):  </th> <td>2275.018</td>\n",
       "</tr>\n",
       "<tr>\n",
       "  <th>Skew:</th>          <td> 0.638</td>  <th>  Prob(JB):          </th> <td>    0.00</td>\n",
       "</tr>\n",
       "<tr>\n",
       "  <th>Kurtosis:</th>      <td> 8.820</td>  <th>  Cond. No.          </th> <td>1.09e+04</td>\n",
       "</tr>\n",
       "</table><br/><br/>Warnings:<br/>[1] Standard Errors assume that the covariance matrix of the errors is correctly specified.<br/>[2] The condition number is large, 1.09e+04. This might indicate that there are<br/>strong multicollinearity or other numerical problems."
      ],
      "text/plain": [
       "<class 'statsmodels.iolib.summary.Summary'>\n",
       "\"\"\"\n",
       "                            OLS Regression Results                            \n",
       "==============================================================================\n",
       "Dep. Variable:             sale_price   R-squared:                       0.896\n",
       "Model:                            OLS   Adj. R-squared:                  0.895\n",
       "Method:                 Least Squares   F-statistic:                     656.5\n",
       "Date:                Tue, 19 Mar 2019   Prob (F-statistic):               0.00\n",
       "Time:                        17:36:01   Log-Likelihood:                -17770.\n",
       "No. Observations:                1538   AIC:                         3.558e+04\n",
       "Df Residuals:                    1517   BIC:                         3.569e+04\n",
       "Df Model:                          20                                         \n",
       "Covariance Type:            nonrobust                                         \n",
       "=================================================================================================\n",
       "                                    coef    std err          t      P>|t|      [0.025      0.975]\n",
       "-------------------------------------------------------------------------------------------------\n",
       "const                          1.821e+05    647.115    281.371      0.000    1.81e+05    1.83e+05\n",
       "over_qual                     -6.589e+05   8.92e+05     -0.738      0.460   -2.41e+06    1.09e+06\n",
       "gr_liv_area                     8.13e+05   1.25e+06      0.650      0.516   -1.64e+06    3.27e+06\n",
       "lot_area over_qual              3.11e+04   3781.148      8.225      0.000    2.37e+04    3.85e+04\n",
       "lot_area tot_bsmt_sf          -1.643e+04   3581.369     -4.588      0.000   -2.35e+04   -9404.729\n",
       "lot_area gr_liv_area           -1.21e+04   2718.128     -4.451      0.000   -1.74e+04   -6766.149\n",
       "over_qual age_remodel_at_sale -1.929e+04   2424.214     -7.957      0.000    -2.4e+04   -1.45e+04\n",
       "over_qual tot_bsmt_sf          4.295e+04   4142.212     10.368      0.000    3.48e+04    5.11e+04\n",
       "over_qual gr_liv_area          6.906e+04   5958.850     11.589      0.000    5.74e+04    8.07e+04\n",
       "over_qual full_bath           -3.275e+04   4625.283     -7.080      0.000   -4.18e+04   -2.37e+04\n",
       "over_qual yr_sold              6.463e+05   8.92e+05      0.724      0.469    -1.1e+06     2.4e+06\n",
       "over_cond age_remodel_at_sale  1.564e+04   2471.249      6.329      0.000    1.08e+04    2.05e+04\n",
       "over_cond tot_bsmt_sf          8975.8208   1641.537      5.468      0.000    5755.899    1.22e+04\n",
       "age_home_at_sale yr_sold      -1.189e+04   1043.700    -11.394      0.000   -1.39e+04   -9844.293\n",
       "tot_bsmt_sf gr_liv_area       -4.948e+04   4827.190    -10.250      0.000   -5.89e+04      -4e+04\n",
       "tot_bsmt_sf full_bath          1.645e+04   4069.586      4.042      0.000    8466.980    2.44e+04\n",
       "gr_liv_area bsmt_full_bath     8330.7734    745.815     11.170      0.000    6867.837    9793.710\n",
       "gr_liv_area full_bath          2.135e+04   4657.703      4.583      0.000    1.22e+04    3.05e+04\n",
       "gr_liv_area yr_sold           -8.164e+05   1.25e+06     -0.653      0.514   -3.27e+06    1.64e+06\n",
       "ext_qual_Gd                   -8864.9701   1650.115     -5.372      0.000   -1.21e+04   -5628.223\n",
       "ext_qual_TA                   -1.034e+04   1897.140     -5.450      0.000   -1.41e+04   -6618.308\n",
       "==============================================================================\n",
       "Omnibus:                      286.711   Durbin-Watson:                   2.099\n",
       "Prob(Omnibus):                  0.000   Jarque-Bera (JB):             2275.018\n",
       "Skew:                           0.638   Prob(JB):                         0.00\n",
       "Kurtosis:                       8.820   Cond. No.                     1.09e+04\n",
       "==============================================================================\n",
       "\n",
       "Warnings:\n",
       "[1] Standard Errors assume that the covariance matrix of the errors is correctly specified.\n",
       "[2] The condition number is large, 1.09e+04. This might indicate that there are\n",
       "strong multicollinearity or other numerical problems.\n",
       "\"\"\""
      ]
     },
     "execution_count": 75,
     "metadata": {},
     "output_type": "execute_result"
    }
   ],
   "source": [
    "# look at these results in a linear regression model\n",
    "view_lr_summary(X1_trn_trn_s[columns],y_trn_trn)\n"
   ]
  },
  {
   "cell_type": "markdown",
   "metadata": {},
   "source": [
    "## Train the model on the entire training data set"
   ]
  },
  {
   "cell_type": "code",
   "execution_count": 76,
   "metadata": {},
   "outputs": [],
   "source": [
    "# Update the scalar to include all of the data in the training set\n",
    "ss = StandardScaler()\n",
    "ss.fit(X1_trn)\n",
    "X1_trn_s = pd.DataFrame(ss.transform(X1_trn))\n",
    "X1_trn_s.columns = X1_trn.columns\n",
    "X1_tst_s = pd.DataFrame(ss.transform(X1_tst))\n",
    "X1_tst_s.columns = X1_tst.columns\n"
   ]
  },
  {
   "cell_type": "code",
   "execution_count": 77,
   "metadata": {},
   "outputs": [
    {
     "data": {
      "text/plain": [
       "GridSearchCV(cv='warn', error_score='raise-deprecating',\n",
       "       estimator=Pipeline(memory=None,\n",
       "     steps=[('ss', StandardScaler(copy=True, with_mean=True, with_std=True)), ('kbest', SelectKBest(k=10, score_func=<function f_regression at 0x1a1865e400>)), ('rfe', RFE(estimator=Lasso(alpha=1.0, copy_X=True, fit_intercept=True, max_iter=1000,\n",
       "   normalize=False, positive=False, precompute=False, random_state=None,\n",
       "   selection='cyclic', tol=0.0001, warm_start=False),\n",
       "  n_features_to_select=None, step=1, verbose=0))]),\n",
       "       fit_params=None, iid='warn', n_jobs=None,\n",
       "       param_grid={'kbest__k': [10, 20, 30, 40, 50], 'rfe__n_features_to_select': [5, 7, 9, 11, 20, 30]},\n",
       "       pre_dispatch='2*n_jobs', refit=True, return_train_score='warn',\n",
       "       scoring=None, verbose=0)"
      ]
     },
     "execution_count": 77,
     "metadata": {},
     "output_type": "execute_result"
    }
   ],
   "source": [
    "# fit the model\n",
    "gs_model.fit(X1_trn_s, y_trn)\n"
   ]
  },
  {
   "cell_type": "code",
   "execution_count": 78,
   "metadata": {},
   "outputs": [],
   "source": [
    "# Generate predictions from the grid search model\n",
    "pred_gs_tst = gs_model.predict(X1_tst_s)\n"
   ]
  },
  {
   "cell_type": "markdown",
   "metadata": {},
   "source": [
    "## Write data to files"
   ]
  },
  {
   "cell_type": "markdown",
   "metadata": {},
   "source": [
    "### Write the predictions to a file"
   ]
  },
  {
   "cell_type": "code",
   "execution_count": 79,
   "metadata": {},
   "outputs": [],
   "source": [
    "# write the test set predictions to a file\n",
    "write_pred(pd.DataFrame(pred_gs_tst),\"pred_4_Steve_Godfrey.csv\" )\n"
   ]
  },
  {
   "cell_type": "markdown",
   "metadata": {},
   "source": [
    "### Write the expanded data frame to a file"
   ]
  },
  {
   "cell_type": "code",
   "execution_count": 80,
   "metadata": {},
   "outputs": [],
   "source": [
    "# Save the data to csv files\n",
    "test_dataframe_name = \"test_expanded_clean.csv\"\n",
    "train_dataframe_name = \"train_expanded_clean.csv\"\n",
    "\n",
    "X1_tst.to_csv(os.path.join(data_path, test_dataframe_name), index = False)\n",
    "X1_trn.to_csv(os.path.join(data_path, train_dataframe_name), index = False)\n"
   ]
  },
  {
   "cell_type": "markdown",
   "metadata": {},
   "source": [
    "## References\n",
    "\n",
    "* https://machinelearningmastery.com/feature-selection-machine-learning-python/\n",
    "* https://stackoverflow.com/questions/34204898/how-to-get-the-coefficients-from-rfe-using-sklearn\n"
   ]
  }
 ],
 "metadata": {
  "kernelspec": {
   "display_name": "Python 3",
   "language": "python",
   "name": "python3"
  },
  "language_info": {
   "codemirror_mode": {
    "name": "ipython",
    "version": 3
   },
   "file_extension": ".py",
   "mimetype": "text/x-python",
   "name": "python",
   "nbconvert_exporter": "python",
   "pygments_lexer": "ipython3",
   "version": "3.6.8"
  }
 },
 "nbformat": 4,
 "nbformat_minor": 2
}
